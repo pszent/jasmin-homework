{
 "cells": [
  {
   "cell_type": "markdown",
   "metadata": {},
   "source": [
    "I take a pre-trained resnet50 model, take the forward function of the nn.Module to forward the top layer of the pre-trained network to return the embedding. I flatten the result of the avgpool() to control the amount of params I set in the .fc attribute."
   ]
  },
  {
   "cell_type": "code",
   "execution_count": null,
   "metadata": {},
   "outputs": [],
   "source": [
    "import torch\n",
    "from torchvision import models\n",
    "\n",
    "\n",
    "class Resnet50emb(torch.nn.Module):\n",
    "    def __init__(self, pretrained=True):\n",
    "        super().__init__()\n",
    "        self.model = models.resnet50(pretrained=pretrained)\n",
    "\n",
    "    def forward(self, x):\n",
    "        # See note [TorchScript super()]\n",
    "        x = self.model.conv1(x)\n",
    "        x = self.model.bn1(x)\n",
    "        x = self.model.relu(x)\n",
    "        x = self.model.maxpool(x)\n",
    "\n",
    "        x = self.model.layer1(x)\n",
    "        x = self.model.layer2(x)\n",
    "        x = self.model.layer3(x)\n",
    "        x = self.model.layer4(x)\n",
    "\n",
    "        # output is Bx2048x7x7 here\n",
    "        x = self.model.avgpool(x)\n",
    "        # flatten the results to 1dim\n",
    "        embedding = torch.flatten(x, 1)\n",
    "        # forward layer gets only Bx2048 params\n",
    "        x = self.model.fc(embedding)\n",
    "\n",
    "        return x, embedding\n"
   ]
  }
 ],
 "metadata": {
  "kernelspec": {
   "display_name": "Python 3",
   "language": "python",
   "name": "python3"
  },
  "language_info": {
   "codemirror_mode": {
    "name": "ipython",
    "version": 3
   },
   "file_extension": ".py",
   "mimetype": "text/x-python",
   "name": "python",
   "nbconvert_exporter": "python",
   "pygments_lexer": "ipython3",
   "version": "3.7.6"
  }
 },
 "nbformat": 4,
 "nbformat_minor": 4
}
