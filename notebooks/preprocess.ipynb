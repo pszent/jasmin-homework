{
 "cells": [
  {
   "cell_type": "markdown",
   "metadata": {},
   "source": [
    "I selected PIL to do raw image transformations because Resnet expects the image parameters (such as the RGB channels) in a certain order, which (for instance) cv2 handles differently.\n",
    "\n",
    "Initially I ran into the problem where the inference constantly returned on each run the exact same predictions with 100% confidence, I learned this problem rooted in cv2 essentially passing the image to the model as an entirely white 100x100px image with 62px black padding.\n",
    "\n",
    "The preprocessing requirements was somewhat confusing at first as the model requires the images to be fixed to 224x224px, which, concatenated to the previous, random cropping 100x100px step resulted in a constant, thick black padding. This lowers the confidence of the results. Not having this requirement usually results a few of the crops having some padding, which would affect the confidences of the results by a marginally low rate.\n",
    "\n",
    "Without these specific requirements, usually assembling the dataset could've been done using only `torchvision.transforms` instead of a custom class."
   ]
  },
  {
   "cell_type": "code",
   "execution_count": null,
   "metadata": {},
   "outputs": [],
   "source": [
    "from PIL import Image\n",
    "import torchvision.transforms as T\n",
    "\n",
    "\n",
    "class ZoomIn(object):\n",
    "\n",
    "    def __init__(self, r):\n",
    "        self.r = r\n",
    "\n",
    "    def __call__(self, img):\n",
    "        newsize = (int(img.width * self.r), int(img.height * self.r))\n",
    "        return img.resize(newsize)\n",
    "\n",
    "\n",
    "def preprocess(path):\n",
    "    augs = T.Compose([\n",
    "        ZoomIn(1.5),\n",
    "        T.RandomCrop(100),\n",
    "        T.Pad(62),\n",
    "        T.ToTensor(),\n",
    "        T.Normalize(mean=[0.485, 0.456, 0.406], std=[0.229, 0.224, 0.225])\n",
    "    ])\n",
    "\n",
    "    img = Image.open(path).convert(\"RGB\")\n",
    "    img = augs(img)\n",
    "    return img\n"
   ]
  }
 ],
 "metadata": {
  "kernelspec": {
   "display_name": "Python 3",
   "language": "python",
   "name": "python3"
  },
  "language_info": {
   "codemirror_mode": {
    "name": "ipython",
    "version": 3
   },
   "file_extension": ".py",
   "mimetype": "text/x-python",
   "name": "python",
   "nbconvert_exporter": "python",
   "pygments_lexer": "ipython3",
   "version": "3.7.6"
  }
 },
 "nbformat": 4,
 "nbformat_minor": 4
}
